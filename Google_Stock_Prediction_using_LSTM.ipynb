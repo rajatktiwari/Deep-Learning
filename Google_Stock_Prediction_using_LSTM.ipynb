{
  "nbformat": 4,
  "nbformat_minor": 0,
  "metadata": {
    "colab": {
      "name": "Google Stock Prediction using LSTM.ipynb",
      "provenance": [],
      "mount_file_id": "11BmOYoT1r_nZpCSroXEtrDC3xqC6dx6l",
      "authorship_tag": "ABX9TyNX6z/OV1AjH02FRZ/IztrM",
      "include_colab_link": true
    },
    "kernelspec": {
      "name": "python3",
      "display_name": "Python 3"
    },
    "accelerator": "GPU"
  },
  "cells": [
    {
      "cell_type": "markdown",
      "metadata": {
        "id": "view-in-github",
        "colab_type": "text"
      },
      "source": [
        "<a href=\"https://colab.research.google.com/github/rajatktiwari/Deep-Learning/blob/main/Google_Stock_Prediction_using_LSTM.ipynb\" target=\"_parent\"><img src=\"https://colab.research.google.com/assets/colab-badge.svg\" alt=\"Open In Colab\"/></a>"
      ]
    },
    {
      "cell_type": "code",
      "metadata": {
        "id": "0GxZTAyt7bFW"
      },
      "source": [
        "import numpy as np\n",
        "import pandas as pd\n",
        "import matplotlib.pyplot as plt\n"
      ],
      "execution_count": 1,
      "outputs": []
    },
    {
      "cell_type": "code",
      "metadata": {
        "id": "DN1zUnS98m91"
      },
      "source": [
        "train_dataset = pd.read_csv('/content/drive/MyDrive/Google Colab /Neural Networks/CNN/DATA SETS/Google_Stock_Price_Train.csv')"
      ],
      "execution_count": 2,
      "outputs": []
    },
    {
      "cell_type": "code",
      "metadata": {
        "id": "x7-zkBKn888W"
      },
      "source": [
        "training_set = train_dataset.iloc[:,1:2].values #creating the training data \n"
      ],
      "execution_count": 3,
      "outputs": []
    },
    {
      "cell_type": "code",
      "metadata": {
        "id": "Y8tY4Gfo9CvP"
      },
      "source": [
        "#feature scaling\n",
        "from sklearn.preprocessing import MinMaxScaler\n",
        "sc = MinMaxScaler(feature_range = (0,1))\n",
        "training_set_sc = sc.fit_transform(training_set)"
      ],
      "execution_count": 4,
      "outputs": []
    },
    {
      "cell_type": "code",
      "metadata": {
        "id": "PAmLLjhrGhFn"
      },
      "source": [
        "#Creating the data structure with 60 timesteps and 1 output\n",
        "X_train = []\n",
        "y_train = []\n",
        "for i in range(60,1258):\n",
        "  X_train.append(training_set_sc[i-60:i,0])\n",
        "  y_train.append(training_set_sc[i,0])\n",
        "X_train, y_train = np.array(X_train),np.array(y_train)\n",
        "X_train = np.reshape(X_train, (X_train.shape[0],X_train.shape[1],1))  #Reshaping"
      ],
      "execution_count": 5,
      "outputs": []
    },
    {
      "cell_type": "code",
      "metadata": {
        "id": "v7vwBNYFMKTS"
      },
      "source": [
        "from keras.models import Sequential\n",
        "from keras.layers import Dense\n",
        "from keras.layers import LSTM\n",
        "from keras.layers import Dropout"
      ],
      "execution_count": 6,
      "outputs": []
    },
    {
      "cell_type": "code",
      "metadata": {
        "id": "psVGg-1MOo0w"
      },
      "source": [
        "regressor = Sequential()\n"
      ],
      "execution_count": 9,
      "outputs": []
    },
    {
      "cell_type": "code",
      "metadata": {
        "id": "O6V9J5X2OvST"
      },
      "source": [
        "regressor.add(LSTM(units=50, return_sequences=True, input_shape=(X_train.shape[1],1)))\n",
        "regressor.add(Dropout(0.2))\n",
        "regressor.add(LSTM(units=50, return_sequences=True)) #2nd LSTM LAYER\n",
        "regressor.add(Dropout(0.2))\n",
        "regressor.add(LSTM(units=50,return_sequences=False)) #3rd Sequence layer\n",
        "regressor.add(Dropout(0.2))\n",
        "regressor.add(Dense(units=1))\n",
        "\n",
        "regressor.compile(optimizer='Adam', loss = 'mean_squared_error')\n"
      ],
      "execution_count": 42,
      "outputs": []
    },
    {
      "cell_type": "code",
      "metadata": {
        "colab": {
          "base_uri": "https://localhost:8080/"
        },
        "id": "bgCDK3Y1RZl4",
        "outputId": "94b293a0-29c1-45de-fc6d-45b10b5c6f48"
      },
      "source": [
        "regressor.fit(X_train,y_train, epochs=100, batch_size = 32)"
      ],
      "execution_count": 43,
      "outputs": [
        {
          "output_type": "stream",
          "text": [
            "Epoch 1/100\n",
            "38/38 [==============================] - 2s 58ms/step - loss: 0.0278\n",
            "Epoch 2/100\n",
            "38/38 [==============================] - 2s 59ms/step - loss: 0.0069\n",
            "Epoch 3/100\n",
            "38/38 [==============================] - 2s 58ms/step - loss: 0.0059\n",
            "Epoch 4/100\n",
            "38/38 [==============================] - 2s 60ms/step - loss: 0.0058\n",
            "Epoch 5/100\n",
            "38/38 [==============================] - 2s 58ms/step - loss: 0.0063\n",
            "Epoch 6/100\n",
            "38/38 [==============================] - 2s 57ms/step - loss: 0.0051\n",
            "Epoch 7/100\n",
            "38/38 [==============================] - 2s 58ms/step - loss: 0.0048\n",
            "Epoch 8/100\n",
            "38/38 [==============================] - 2s 58ms/step - loss: 0.0042\n",
            "Epoch 9/100\n",
            "38/38 [==============================] - 2s 59ms/step - loss: 0.0044\n",
            "Epoch 10/100\n",
            "38/38 [==============================] - 2s 59ms/step - loss: 0.0048\n",
            "Epoch 11/100\n",
            "38/38 [==============================] - 2s 61ms/step - loss: 0.0041\n",
            "Epoch 12/100\n",
            "38/38 [==============================] - 2s 61ms/step - loss: 0.0045\n",
            "Epoch 13/100\n",
            "38/38 [==============================] - 2s 58ms/step - loss: 0.0041\n",
            "Epoch 14/100\n",
            "38/38 [==============================] - 2s 58ms/step - loss: 0.0043\n",
            "Epoch 15/100\n",
            "38/38 [==============================] - 2s 59ms/step - loss: 0.0051\n",
            "Epoch 16/100\n",
            "38/38 [==============================] - 2s 56ms/step - loss: 0.0045\n",
            "Epoch 17/100\n",
            "38/38 [==============================] - 2s 60ms/step - loss: 0.0038\n",
            "Epoch 18/100\n",
            "38/38 [==============================] - 2s 58ms/step - loss: 0.0043\n",
            "Epoch 19/100\n",
            "38/38 [==============================] - 2s 57ms/step - loss: 0.0037\n",
            "Epoch 20/100\n",
            "38/38 [==============================] - 2s 57ms/step - loss: 0.0040\n",
            "Epoch 21/100\n",
            "38/38 [==============================] - 2s 59ms/step - loss: 0.0038\n",
            "Epoch 22/100\n",
            "38/38 [==============================] - 2s 58ms/step - loss: 0.0042\n",
            "Epoch 23/100\n",
            "38/38 [==============================] - 2s 57ms/step - loss: 0.0035\n",
            "Epoch 24/100\n",
            "38/38 [==============================] - 2s 60ms/step - loss: 0.0036\n",
            "Epoch 25/100\n",
            "38/38 [==============================] - 2s 58ms/step - loss: 0.0036\n",
            "Epoch 26/100\n",
            "38/38 [==============================] - 2s 58ms/step - loss: 0.0034\n",
            "Epoch 27/100\n",
            "38/38 [==============================] - 2s 58ms/step - loss: 0.0032\n",
            "Epoch 28/100\n",
            "38/38 [==============================] - 2s 62ms/step - loss: 0.0036\n",
            "Epoch 29/100\n",
            "38/38 [==============================] - 2s 60ms/step - loss: 0.0036\n",
            "Epoch 30/100\n",
            "38/38 [==============================] - 2s 58ms/step - loss: 0.0030\n",
            "Epoch 31/100\n",
            "38/38 [==============================] - 2s 58ms/step - loss: 0.0030\n",
            "Epoch 32/100\n",
            "38/38 [==============================] - 2s 59ms/step - loss: 0.0030\n",
            "Epoch 33/100\n",
            "38/38 [==============================] - 2s 58ms/step - loss: 0.0032\n",
            "Epoch 34/100\n",
            "38/38 [==============================] - 2s 60ms/step - loss: 0.0029\n",
            "Epoch 35/100\n",
            "38/38 [==============================] - 2s 58ms/step - loss: 0.0026\n",
            "Epoch 36/100\n",
            "38/38 [==============================] - 2s 58ms/step - loss: 0.0026\n",
            "Epoch 37/100\n",
            "38/38 [==============================] - 2s 61ms/step - loss: 0.0026\n",
            "Epoch 38/100\n",
            "38/38 [==============================] - 2s 60ms/step - loss: 0.0028\n",
            "Epoch 39/100\n",
            "38/38 [==============================] - 2s 58ms/step - loss: 0.0028\n",
            "Epoch 40/100\n",
            "38/38 [==============================] - 2s 59ms/step - loss: 0.0033\n",
            "Epoch 41/100\n",
            "38/38 [==============================] - 2s 59ms/step - loss: 0.0025\n",
            "Epoch 42/100\n",
            "38/38 [==============================] - 2s 59ms/step - loss: 0.0026\n",
            "Epoch 43/100\n",
            "38/38 [==============================] - 2s 60ms/step - loss: 0.0025\n",
            "Epoch 44/100\n",
            "38/38 [==============================] - 2s 59ms/step - loss: 0.0025\n",
            "Epoch 45/100\n",
            "38/38 [==============================] - 2s 58ms/step - loss: 0.0025\n",
            "Epoch 46/100\n",
            "38/38 [==============================] - 2s 61ms/step - loss: 0.0028\n",
            "Epoch 47/100\n",
            "38/38 [==============================] - 2s 59ms/step - loss: 0.0025\n",
            "Epoch 48/100\n",
            "38/38 [==============================] - 2s 58ms/step - loss: 0.0023\n",
            "Epoch 49/100\n",
            "38/38 [==============================] - 2s 58ms/step - loss: 0.0026\n",
            "Epoch 50/100\n",
            "38/38 [==============================] - 2s 62ms/step - loss: 0.0024\n",
            "Epoch 51/100\n",
            "38/38 [==============================] - 2s 62ms/step - loss: 0.0024\n",
            "Epoch 52/100\n",
            "38/38 [==============================] - 2s 58ms/step - loss: 0.0025\n",
            "Epoch 53/100\n",
            "38/38 [==============================] - 2s 57ms/step - loss: 0.0019\n",
            "Epoch 54/100\n",
            "38/38 [==============================] - 2s 58ms/step - loss: 0.0022\n",
            "Epoch 55/100\n",
            "38/38 [==============================] - 2s 58ms/step - loss: 0.0024\n",
            "Epoch 56/100\n",
            "38/38 [==============================] - 2s 57ms/step - loss: 0.0025\n",
            "Epoch 57/100\n",
            "38/38 [==============================] - 2s 59ms/step - loss: 0.0027\n",
            "Epoch 58/100\n",
            "38/38 [==============================] - 2s 62ms/step - loss: 0.0052\n",
            "Epoch 59/100\n",
            "38/38 [==============================] - 2s 60ms/step - loss: 0.0041\n",
            "Epoch 60/100\n",
            "38/38 [==============================] - 2s 59ms/step - loss: 0.0030\n",
            "Epoch 61/100\n",
            "38/38 [==============================] - 2s 60ms/step - loss: 0.0030\n",
            "Epoch 62/100\n",
            "38/38 [==============================] - 2s 58ms/step - loss: 0.0028\n",
            "Epoch 63/100\n",
            "38/38 [==============================] - 2s 58ms/step - loss: 0.0026\n",
            "Epoch 64/100\n",
            "38/38 [==============================] - 2s 59ms/step - loss: 0.0029\n",
            "Epoch 65/100\n",
            "38/38 [==============================] - 2s 58ms/step - loss: 0.0024\n",
            "Epoch 66/100\n",
            "38/38 [==============================] - 2s 61ms/step - loss: 0.0027\n",
            "Epoch 67/100\n",
            "38/38 [==============================] - 2s 63ms/step - loss: 0.0024\n",
            "Epoch 68/100\n",
            "38/38 [==============================] - 2s 62ms/step - loss: 0.0021\n",
            "Epoch 69/100\n",
            "38/38 [==============================] - 3s 71ms/step - loss: 0.0022\n",
            "Epoch 70/100\n",
            "38/38 [==============================] - 2s 64ms/step - loss: 0.0023\n",
            "Epoch 71/100\n",
            "38/38 [==============================] - 2s 59ms/step - loss: 0.0023\n",
            "Epoch 72/100\n",
            "38/38 [==============================] - 2s 61ms/step - loss: 0.0020\n",
            "Epoch 73/100\n",
            "38/38 [==============================] - 2s 62ms/step - loss: 0.0021\n",
            "Epoch 74/100\n",
            "38/38 [==============================] - 2s 61ms/step - loss: 0.0022\n",
            "Epoch 75/100\n",
            "38/38 [==============================] - 2s 58ms/step - loss: 0.0020\n",
            "Epoch 76/100\n",
            "38/38 [==============================] - 2s 59ms/step - loss: 0.0022\n",
            "Epoch 77/100\n",
            "38/38 [==============================] - 2s 63ms/step - loss: 0.0022\n",
            "Epoch 78/100\n",
            "38/38 [==============================] - 2s 63ms/step - loss: 0.0022\n",
            "Epoch 79/100\n",
            "38/38 [==============================] - 2s 65ms/step - loss: 0.0019\n",
            "Epoch 80/100\n",
            "38/38 [==============================] - 3s 66ms/step - loss: 0.0018\n",
            "Epoch 81/100\n",
            "38/38 [==============================] - 2s 60ms/step - loss: 0.0018\n",
            "Epoch 82/100\n",
            "38/38 [==============================] - 2s 60ms/step - loss: 0.0019\n",
            "Epoch 83/100\n",
            "38/38 [==============================] - 2s 61ms/step - loss: 0.0019\n",
            "Epoch 84/100\n",
            "38/38 [==============================] - 2s 62ms/step - loss: 0.0017\n",
            "Epoch 85/100\n",
            "38/38 [==============================] - 2s 58ms/step - loss: 0.0018\n",
            "Epoch 86/100\n",
            "38/38 [==============================] - 2s 59ms/step - loss: 0.0020\n",
            "Epoch 87/100\n",
            "38/38 [==============================] - 2s 61ms/step - loss: 0.0019\n",
            "Epoch 88/100\n",
            "38/38 [==============================] - 2s 58ms/step - loss: 0.0017\n",
            "Epoch 89/100\n",
            "38/38 [==============================] - 2s 59ms/step - loss: 0.0017\n",
            "Epoch 90/100\n",
            "38/38 [==============================] - 2s 58ms/step - loss: 0.0017\n",
            "Epoch 91/100\n",
            "38/38 [==============================] - 2s 58ms/step - loss: 0.0017\n",
            "Epoch 92/100\n",
            "38/38 [==============================] - 2s 59ms/step - loss: 0.0018\n",
            "Epoch 93/100\n",
            "38/38 [==============================] - 2s 59ms/step - loss: 0.0017\n",
            "Epoch 94/100\n",
            "38/38 [==============================] - 2s 61ms/step - loss: 0.0018\n",
            "Epoch 95/100\n",
            "38/38 [==============================] - 2s 59ms/step - loss: 0.0018\n",
            "Epoch 96/100\n",
            "38/38 [==============================] - 2s 60ms/step - loss: 0.0017\n",
            "Epoch 97/100\n",
            "38/38 [==============================] - 2s 59ms/step - loss: 0.0016\n",
            "Epoch 98/100\n",
            "38/38 [==============================] - 2s 63ms/step - loss: 0.0016\n",
            "Epoch 99/100\n",
            "38/38 [==============================] - 2s 59ms/step - loss: 0.0021\n",
            "Epoch 100/100\n",
            "38/38 [==============================] - 2s 62ms/step - loss: 0.0019\n"
          ],
          "name": "stdout"
        },
        {
          "output_type": "execute_result",
          "data": {
            "text/plain": [
              "<tensorflow.python.keras.callbacks.History at 0x7fe3ecc84fd0>"
            ]
          },
          "metadata": {
            "tags": []
          },
          "execution_count": 43
        }
      ]
    },
    {
      "cell_type": "code",
      "metadata": {
        "id": "t8k7Lvv4Rkzw"
      },
      "source": [
        "dataset_test = pd.read_csv('/content/drive/MyDrive/Google Colab /Neural Networks/CNN/DATA SETS/Google_Stock_Price_Test.csv')\n",
        "real_stock_price = dataset_test.iloc[:, 1:2].values"
      ],
      "execution_count": 44,
      "outputs": []
    },
    {
      "cell_type": "code",
      "metadata": {
        "id": "z-ZbtFPCcPAx"
      },
      "source": [
        "dataset_total = pd.concat((train_dataset['Open'], dataset_test['Open']), axis = 0)\n",
        "inputs = dataset_total[len(dataset_total) - len(dataset_test) - 60:].values\n",
        "inputs = inputs.reshape(-1,1)\n",
        "inputs = sc.transform(inputs)\n",
        "X_test = []\n",
        "for i in range(60, 80):\n",
        "    X_test.append(inputs[i-60:i, 0])\n",
        "X_test = np.array(X_test)\n",
        "X_test = np.reshape(X_test, (X_test.shape[0], X_test.shape[1], 1))\n",
        "predicted_stock_price = regressor.predict(X_test)\n",
        "predicted_stock_price = sc.inverse_transform(predicted_stock_price)\n"
      ],
      "execution_count": 45,
      "outputs": []
    },
    {
      "cell_type": "code",
      "metadata": {
        "colab": {
          "base_uri": "https://localhost:8080/",
          "height": 295
        },
        "id": "XQucTupHcUq_",
        "outputId": "ebc865e9-084f-41c2-8efa-1d31aa32fda4"
      },
      "source": [
        "plt.plot(real_stock_price, color = 'red', label = 'Real Google Stock Price')\n",
        "plt.plot(predicted_stock_price, color = 'blue', label = 'Predicted Google Stock Price')\n",
        "plt.title('Google Stock Price Prediction')\n",
        "plt.xlabel('Time')\n",
        "plt.ylabel('Google Stock Price')\n",
        "plt.legend()\n",
        "plt.show()\n"
      ],
      "execution_count": 46,
      "outputs": [
        {
          "output_type": "display_data",
          "data": {
            "image/png": "[encoded data removed]",
            "text/plain": [
              "<Figure size 432x288 with 1 Axes>"
            ]
          },
          "metadata": {
            "tags": [],
            "needs_background": "light"
          }
        }
      ]
    }
  ]
}