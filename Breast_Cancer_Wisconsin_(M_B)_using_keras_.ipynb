{
  "nbformat": 4,
  "nbformat_minor": 0,
  "metadata": {
    "colab": {
      "name": "Breast Cancer Wisconsin (M/B)  using keras .ipynb",
      "provenance": [],
      "collapsed_sections": []
    },
    "kernelspec": {
      "name": "python3",
      "display_name": "Python 3"
    },
    "accelerator": "GPU"
  },
  "cells": [
    {
      "cell_type": "code",
      "metadata": {
        "id": "0qiMpUvmozGu"
      },
      "source": [
        "import pandas as pd\n",
        "import numpy as np\n",
        "import matplotlib.pyplot as plt\n",
        "import seaborn as sns \n"
      ],
      "execution_count": 2,
      "outputs": []
    },
    {
      "cell_type": "code",
      "metadata": {
        "id": "y-1cm3hVqf8O"
      },
      "source": [
        "data = pd.read_csv('/content/drive/MyDrive/Google Colab /ANN/Data Sets /BreastcancerData.csv')\n",
        "del data['Unnamed: 32']\n",
        "X = data.iloc[:,2:]\n",
        "Y = data.iloc[:,1]\n",
        "from sklearn.preprocessing import LabelEncoder\n",
        "labelencoder_X_1 = LabelEncoder()\n",
        "Y = labelencoder_X_1.fit_transform(Y)\n",
        "Y\n",
        "\n",
        "from sklearn.model_selection import train_test_split \n",
        "X_train, X_test, Y_train, Y_test = train_test_split(X,Y, test_size=0.1,random_state=0)\n",
        "\n",
        "from sklearn.preprocessing import StandardScaler\n",
        "sc = StandardScaler()\n",
        "X_train= sc.fit_transform(X_train)\n",
        "X_test= sc.transform(X_test)\n",
        "\n",
        "\n",
        "\n",
        "\n",
        "\n",
        "\n"
      ],
      "execution_count": 3,
      "outputs": []
    },
    {
      "cell_type": "code",
      "metadata": {
        "id": "Rs-kUdZuJ1lx"
      },
      "source": [
        "import keras \n",
        "from keras.models import Sequential \n",
        "from keras.layers import Dense, Dropout, LeakyReLU, ReLU ,PReLU, ELU\n",
        "\n"
      ],
      "execution_count": 4,
      "outputs": []
    },
    {
      "cell_type": "code",
      "metadata": {
        "id": "TnpnB7FDKKyU"
      },
      "source": [
        "#initializing an ANN\n",
        "classifier = Sequential()\n",
        "classifier.add(Dense(units=16,kernel_initializer='he_uniform', activation='relu',input_dim=30))\n",
        "classifier.add(Dropout(rate=0.1))\n",
        "classifier.add(Dense(units=16, kernel_initializer='he_uniform',activation='relu'))\n",
        "classifier.add(Dropout(rate=0.1))\n",
        "classifier.add(Dense(units=1,kernel_initializer='glorot_uniform',activation='sigmoid'))\n",
        "classifier.compile(optimizer='Adam',loss='binary_crossentropy',metrics=['accuracy'])"
      ],
      "execution_count": 5,
      "outputs": []
    },
    {
      "cell_type": "code",
      "metadata": {
        "colab": {
          "base_uri": "https://localhost:8080/"
        },
        "id": "2AzMdbvTOZdg",
        "outputId": "fe7d04e7-abd5-479f-b6d5-79a5709583c8"
      },
      "source": [
        "#fitting the ANN into train data\n",
        "model_history = classifier.fit(X_train,Y_train, validation_split=0.33,batch_size=1, epochs=150)"
      ],
      "execution_count": 32,
      "outputs": [
        {
          "output_type": "stream",
          "text": [
            "Epoch 1/150\n",
            "343/343 [==============================] - 1s 3ms/step - loss: 0.0039 - accuracy: 0.9971 - val_loss: 3.5271e-06 - val_accuracy: 1.0000\n",
            "Epoch 2/150\n",
            "343/343 [==============================] - 1s 3ms/step - loss: 9.1232e-04 - accuracy: 1.0000 - val_loss: 2.6364e-06 - val_accuracy: 1.0000\n",
            "Epoch 3/150\n",
            "343/343 [==============================] - 1s 2ms/step - loss: 7.4000e-04 - accuracy: 1.0000 - val_loss: 2.6954e-06 - val_accuracy: 1.0000\n",
            "Epoch 4/150\n",
            "343/343 [==============================] - 1s 2ms/step - loss: 7.4393e-05 - accuracy: 1.0000 - val_loss: 2.5231e-06 - val_accuracy: 1.0000\n",
            "Epoch 5/150\n",
            "343/343 [==============================] - 1s 2ms/step - loss: 6.4666e-05 - accuracy: 1.0000 - val_loss: 2.3939e-06 - val_accuracy: 1.0000\n",
            "Epoch 6/150\n",
            "343/343 [==============================] - 1s 2ms/step - loss: 2.7608e-05 - accuracy: 1.0000 - val_loss: 2.3500e-06 - val_accuracy: 1.0000\n",
            "Epoch 7/150\n",
            "343/343 [==============================] - 1s 2ms/step - loss: 4.4938e-04 - accuracy: 1.0000 - val_loss: 2.5916e-06 - val_accuracy: 1.0000\n",
            "Epoch 8/150\n",
            "343/343 [==============================] - 1s 2ms/step - loss: 0.0010 - accuracy: 1.0000 - val_loss: 9.5825e-07 - val_accuracy: 1.0000\n",
            "Epoch 9/150\n",
            "343/343 [==============================] - 1s 2ms/step - loss: 4.5605e-05 - accuracy: 1.0000 - val_loss: 7.4432e-07 - val_accuracy: 1.0000\n",
            "Epoch 10/150\n",
            "343/343 [==============================] - 1s 2ms/step - loss: 0.0161 - accuracy: 0.9971 - val_loss: 1.3659e-06 - val_accuracy: 1.0000\n",
            "Epoch 11/150\n",
            "343/343 [==============================] - 1s 3ms/step - loss: 2.5586e-04 - accuracy: 1.0000 - val_loss: 1.2784e-06 - val_accuracy: 1.0000\n",
            "Epoch 12/150\n",
            "343/343 [==============================] - 1s 2ms/step - loss: 0.0863 - accuracy: 0.9942 - val_loss: 3.4225e-06 - val_accuracy: 1.0000\n",
            "Epoch 13/150\n",
            "343/343 [==============================] - 1s 3ms/step - loss: 5.1560e-04 - accuracy: 1.0000 - val_loss: 3.6588e-06 - val_accuracy: 1.0000\n",
            "Epoch 14/150\n",
            "343/343 [==============================] - 1s 2ms/step - loss: 5.7432e-04 - accuracy: 1.0000 - val_loss: 2.2522e-06 - val_accuracy: 1.0000\n",
            "Epoch 15/150\n",
            "343/343 [==============================] - 1s 3ms/step - loss: 3.4992e-04 - accuracy: 1.0000 - val_loss: 2.0290e-06 - val_accuracy: 1.0000\n",
            "Epoch 16/150\n",
            "343/343 [==============================] - 1s 3ms/step - loss: 4.9299e-06 - accuracy: 1.0000 - val_loss: 2.0185e-06 - val_accuracy: 1.0000\n",
            "Epoch 17/150\n",
            "343/343 [==============================] - 1s 2ms/step - loss: 3.3747e-05 - accuracy: 1.0000 - val_loss: 2.0076e-06 - val_accuracy: 1.0000\n",
            "Epoch 18/150\n",
            "343/343 [==============================] - 1s 3ms/step - loss: 7.8847e-05 - accuracy: 1.0000 - val_loss: 1.9211e-06 - val_accuracy: 1.0000\n",
            "Epoch 19/150\n",
            "343/343 [==============================] - 1s 2ms/step - loss: 2.2003e-05 - accuracy: 1.0000 - val_loss: 1.9153e-06 - val_accuracy: 1.0000\n",
            "Epoch 20/150\n",
            "343/343 [==============================] - 1s 3ms/step - loss: 0.0033 - accuracy: 0.9971 - val_loss: 4.6187e-06 - val_accuracy: 1.0000\n",
            "Epoch 21/150\n",
            "343/343 [==============================] - 1s 2ms/step - loss: 4.2200e-04 - accuracy: 1.0000 - val_loss: 4.7798e-06 - val_accuracy: 1.0000\n",
            "Epoch 22/150\n",
            "343/343 [==============================] - 1s 3ms/step - loss: 2.7491e-05 - accuracy: 1.0000 - val_loss: 5.5101e-06 - val_accuracy: 1.0000\n",
            "Epoch 23/150\n",
            "343/343 [==============================] - 1s 3ms/step - loss: 2.2302e-04 - accuracy: 1.0000 - val_loss: 4.7548e-06 - val_accuracy: 1.0000\n",
            "Epoch 24/150\n",
            "343/343 [==============================] - 1s 2ms/step - loss: 8.9287e-04 - accuracy: 1.0000 - val_loss: 2.8908e-06 - val_accuracy: 1.0000\n",
            "Epoch 25/150\n",
            "343/343 [==============================] - 1s 3ms/step - loss: 0.0015 - accuracy: 1.0000 - val_loss: 4.6147e-06 - val_accuracy: 1.0000\n",
            "Epoch 26/150\n",
            "343/343 [==============================] - 1s 2ms/step - loss: 0.0026 - accuracy: 0.9971 - val_loss: 5.2830e-06 - val_accuracy: 1.0000\n",
            "Epoch 27/150\n",
            "343/343 [==============================] - 1s 2ms/step - loss: 1.9291e-04 - accuracy: 1.0000 - val_loss: 4.4228e-06 - val_accuracy: 1.0000\n",
            "Epoch 28/150\n",
            "343/343 [==============================] - 1s 2ms/step - loss: 4.6690e-05 - accuracy: 1.0000 - val_loss: 4.1553e-06 - val_accuracy: 1.0000\n",
            "Epoch 29/150\n",
            "343/343 [==============================] - 1s 3ms/step - loss: 5.5352e-04 - accuracy: 1.0000 - val_loss: 2.5109e-06 - val_accuracy: 1.0000\n",
            "Epoch 30/150\n",
            "343/343 [==============================] - 1s 3ms/step - loss: 7.2648e-04 - accuracy: 1.0000 - val_loss: 1.5287e-06 - val_accuracy: 1.0000\n",
            "Epoch 31/150\n",
            "343/343 [==============================] - 1s 3ms/step - loss: 1.9532e-05 - accuracy: 1.0000 - val_loss: 1.4630e-06 - val_accuracy: 1.0000\n",
            "Epoch 32/150\n",
            "343/343 [==============================] - 1s 2ms/step - loss: 0.0039 - accuracy: 0.9971 - val_loss: 1.0273e-06 - val_accuracy: 1.0000\n",
            "Epoch 33/150\n",
            "343/343 [==============================] - 1s 3ms/step - loss: 3.3604e-05 - accuracy: 1.0000 - val_loss: 9.7438e-07 - val_accuracy: 1.0000\n",
            "Epoch 34/150\n",
            "343/343 [==============================] - 1s 2ms/step - loss: 6.3562e-05 - accuracy: 1.0000 - val_loss: 8.0624e-07 - val_accuracy: 1.0000\n",
            "Epoch 35/150\n",
            "343/343 [==============================] - 1s 2ms/step - loss: 8.3847e-06 - accuracy: 1.0000 - val_loss: 7.9885e-07 - val_accuracy: 1.0000\n",
            "Epoch 36/150\n",
            "343/343 [==============================] - 1s 3ms/step - loss: 1.3515e-04 - accuracy: 1.0000 - val_loss: 5.1050e-07 - val_accuracy: 1.0000\n",
            "Epoch 37/150\n",
            "343/343 [==============================] - 1s 2ms/step - loss: 0.0040 - accuracy: 0.9971 - val_loss: 1.0885e-06 - val_accuracy: 1.0000\n",
            "Epoch 38/150\n",
            "343/343 [==============================] - 1s 2ms/step - loss: 0.0048 - accuracy: 0.9971 - val_loss: 2.5640e-06 - val_accuracy: 1.0000\n",
            "Epoch 39/150\n",
            "343/343 [==============================] - 1s 3ms/step - loss: 8.1918e-04 - accuracy: 1.0000 - val_loss: 1.1070e-06 - val_accuracy: 1.0000\n",
            "Epoch 40/150\n",
            "343/343 [==============================] - 1s 2ms/step - loss: 0.0042 - accuracy: 0.9971 - val_loss: 9.2586e-07 - val_accuracy: 1.0000\n",
            "Epoch 41/150\n",
            "343/343 [==============================] - 1s 2ms/step - loss: 6.1163e-06 - accuracy: 1.0000 - val_loss: 8.9492e-07 - val_accuracy: 1.0000\n",
            "Epoch 42/150\n",
            "343/343 [==============================] - 1s 3ms/step - loss: 0.0181 - accuracy: 0.9971 - val_loss: 5.0374e-07 - val_accuracy: 1.0000\n",
            "Epoch 43/150\n",
            "343/343 [==============================] - 1s 3ms/step - loss: 2.2791e-06 - accuracy: 1.0000 - val_loss: 4.9590e-07 - val_accuracy: 1.0000\n",
            "Epoch 44/150\n",
            "343/343 [==============================] - 1s 2ms/step - loss: 2.6962e-05 - accuracy: 1.0000 - val_loss: 4.1011e-07 - val_accuracy: 1.0000\n",
            "Epoch 45/150\n",
            "343/343 [==============================] - 1s 2ms/step - loss: 3.0206e-05 - accuracy: 1.0000 - val_loss: 3.6992e-07 - val_accuracy: 1.0000\n",
            "Epoch 46/150\n",
            "343/343 [==============================] - 1s 2ms/step - loss: 6.1428e-04 - accuracy: 1.0000 - val_loss: 5.6430e-07 - val_accuracy: 1.0000\n",
            "Epoch 47/150\n",
            "343/343 [==============================] - 1s 3ms/step - loss: 0.0018 - accuracy: 1.0000 - val_loss: 8.4701e-07 - val_accuracy: 1.0000\n",
            "Epoch 48/150\n",
            "343/343 [==============================] - 1s 3ms/step - loss: 0.0012 - accuracy: 1.0000 - val_loss: 3.4165e-07 - val_accuracy: 1.0000\n",
            "Epoch 49/150\n",
            "343/343 [==============================] - 1s 3ms/step - loss: 2.3845e-05 - accuracy: 1.0000 - val_loss: 3.2032e-07 - val_accuracy: 1.0000\n",
            "Epoch 50/150\n",
            "343/343 [==============================] - 1s 2ms/step - loss: 3.6265e-04 - accuracy: 1.0000 - val_loss: 4.5238e-07 - val_accuracy: 1.0000\n",
            "Epoch 51/150\n",
            "343/343 [==============================] - 1s 3ms/step - loss: 0.0146 - accuracy: 0.9971 - val_loss: 2.4114e-07 - val_accuracy: 1.0000\n",
            "Epoch 52/150\n",
            "343/343 [==============================] - 1s 2ms/step - loss: 0.0188 - accuracy: 0.9971 - val_loss: 1.3268e-06 - val_accuracy: 1.0000\n",
            "Epoch 53/150\n",
            "343/343 [==============================] - 1s 2ms/step - loss: 1.0333e-05 - accuracy: 1.0000 - val_loss: 1.2996e-06 - val_accuracy: 1.0000\n",
            "Epoch 54/150\n",
            "343/343 [==============================] - 1s 2ms/step - loss: 0.0039 - accuracy: 0.9971 - val_loss: 5.1787e-06 - val_accuracy: 1.0000\n",
            "Epoch 55/150\n",
            "343/343 [==============================] - 1s 2ms/step - loss: 1.1516e-04 - accuracy: 1.0000 - val_loss: 5.1439e-06 - val_accuracy: 1.0000\n",
            "Epoch 56/150\n",
            "343/343 [==============================] - 1s 2ms/step - loss: 7.2116e-05 - accuracy: 1.0000 - val_loss: 5.0029e-06 - val_accuracy: 1.0000\n",
            "Epoch 57/150\n",
            "343/343 [==============================] - 1s 2ms/step - loss: 5.1848e-04 - accuracy: 1.0000 - val_loss: 5.6526e-06 - val_accuracy: 1.0000\n",
            "Epoch 58/150\n",
            "343/343 [==============================] - 1s 2ms/step - loss: 4.0411e-06 - accuracy: 1.0000 - val_loss: 5.6094e-06 - val_accuracy: 1.0000\n",
            "Epoch 59/150\n",
            "343/343 [==============================] - 1s 2ms/step - loss: 2.0870e-05 - accuracy: 1.0000 - val_loss: 5.4723e-06 - val_accuracy: 1.0000\n",
            "Epoch 60/150\n",
            "343/343 [==============================] - 1s 2ms/step - loss: 0.0021 - accuracy: 1.0000 - val_loss: 4.5655e-06 - val_accuracy: 1.0000\n",
            "Epoch 61/150\n",
            "343/343 [==============================] - 1s 2ms/step - loss: 3.1834e-05 - accuracy: 1.0000 - val_loss: 4.2134e-06 - val_accuracy: 1.0000\n",
            "Epoch 62/150\n",
            "343/343 [==============================] - 1s 2ms/step - loss: 2.7177e-04 - accuracy: 1.0000 - val_loss: 5.0533e-06 - val_accuracy: 1.0000\n",
            "Epoch 63/150\n",
            "343/343 [==============================] - 1s 3ms/step - loss: 3.2644e-05 - accuracy: 1.0000 - val_loss: 4.5381e-06 - val_accuracy: 1.0000\n",
            "Epoch 64/150\n",
            "343/343 [==============================] - 1s 3ms/step - loss: 1.5531e-04 - accuracy: 1.0000 - val_loss: 3.1413e-06 - val_accuracy: 1.0000\n",
            "Epoch 65/150\n",
            "343/343 [==============================] - 1s 3ms/step - loss: 3.0764e-05 - accuracy: 1.0000 - val_loss: 2.4817e-06 - val_accuracy: 1.0000\n",
            "Epoch 66/150\n",
            "343/343 [==============================] - 1s 3ms/step - loss: 9.4839e-05 - accuracy: 1.0000 - val_loss: 8.4833e-07 - val_accuracy: 1.0000\n",
            "Epoch 67/150\n",
            "343/343 [==============================] - 1s 3ms/step - loss: 0.0105 - accuracy: 0.9971 - val_loss: 1.2607e-07 - val_accuracy: 1.0000\n",
            "Epoch 68/150\n",
            "343/343 [==============================] - 1s 2ms/step - loss: 5.7221e-05 - accuracy: 1.0000 - val_loss: 5.5354e-07 - val_accuracy: 1.0000\n",
            "Epoch 69/150\n",
            "343/343 [==============================] - 1s 3ms/step - loss: 0.0079 - accuracy: 0.9971 - val_loss: 1.1369e-06 - val_accuracy: 1.0000\n",
            "Epoch 70/150\n",
            "343/343 [==============================] - 1s 2ms/step - loss: 0.0102 - accuracy: 0.9971 - val_loss: 1.7831e-05 - val_accuracy: 1.0000\n",
            "Epoch 71/150\n",
            "343/343 [==============================] - 1s 2ms/step - loss: 4.3136e-05 - accuracy: 1.0000 - val_loss: 1.7752e-05 - val_accuracy: 1.0000\n",
            "Epoch 72/150\n",
            "343/343 [==============================] - 1s 3ms/step - loss: 1.8831e-05 - accuracy: 1.0000 - val_loss: 1.7465e-05 - val_accuracy: 1.0000\n",
            "Epoch 73/150\n",
            "343/343 [==============================] - 1s 2ms/step - loss: 1.9174e-04 - accuracy: 1.0000 - val_loss: 1.7853e-05 - val_accuracy: 1.0000\n",
            "Epoch 74/150\n",
            "343/343 [==============================] - 1s 3ms/step - loss: 4.3484e-04 - accuracy: 1.0000 - val_loss: 1.5708e-05 - val_accuracy: 1.0000\n",
            "Epoch 75/150\n",
            "343/343 [==============================] - 1s 3ms/step - loss: 4.9453e-04 - accuracy: 1.0000 - val_loss: 1.2526e-05 - val_accuracy: 1.0000\n",
            "Epoch 76/150\n",
            "343/343 [==============================] - 1s 3ms/step - loss: 0.0031 - accuracy: 0.9971 - val_loss: 7.1378e-06 - val_accuracy: 1.0000\n",
            "Epoch 77/150\n",
            "343/343 [==============================] - 1s 3ms/step - loss: 0.0109 - accuracy: 0.9971 - val_loss: 3.6720e-06 - val_accuracy: 1.0000\n",
            "Epoch 78/150\n",
            "343/343 [==============================] - 1s 2ms/step - loss: 6.0815e-06 - accuracy: 1.0000 - val_loss: 3.2947e-06 - val_accuracy: 1.0000\n",
            "Epoch 79/150\n",
            "343/343 [==============================] - 1s 3ms/step - loss: 1.5971e-05 - accuracy: 1.0000 - val_loss: 3.2831e-06 - val_accuracy: 1.0000\n",
            "Epoch 80/150\n",
            "343/343 [==============================] - 1s 3ms/step - loss: 4.3712e-06 - accuracy: 1.0000 - val_loss: 3.2645e-06 - val_accuracy: 1.0000\n",
            "Epoch 81/150\n",
            "343/343 [==============================] - 1s 3ms/step - loss: 2.7420e-05 - accuracy: 1.0000 - val_loss: 3.2378e-06 - val_accuracy: 1.0000\n",
            "Epoch 82/150\n",
            "343/343 [==============================] - 1s 3ms/step - loss: 0.0242 - accuracy: 0.9971 - val_loss: 2.8017e-06 - val_accuracy: 1.0000\n",
            "Epoch 83/150\n",
            "343/343 [==============================] - 1s 3ms/step - loss: 1.7088e-05 - accuracy: 1.0000 - val_loss: 2.7597e-06 - val_accuracy: 1.0000\n",
            "Epoch 84/150\n",
            "343/343 [==============================] - 1s 3ms/step - loss: 2.8070e-06 - accuracy: 1.0000 - val_loss: 2.7064e-06 - val_accuracy: 1.0000\n",
            "Epoch 85/150\n",
            "343/343 [==============================] - 1s 3ms/step - loss: 1.0729e-05 - accuracy: 1.0000 - val_loss: 2.3769e-06 - val_accuracy: 1.0000\n",
            "Epoch 86/150\n",
            "343/343 [==============================] - 1s 3ms/step - loss: 8.6287e-04 - accuracy: 1.0000 - val_loss: 6.8647e-06 - val_accuracy: 1.0000\n",
            "Epoch 87/150\n",
            "343/343 [==============================] - 1s 3ms/step - loss: 4.4727e-05 - accuracy: 1.0000 - val_loss: 5.0192e-06 - val_accuracy: 1.0000\n",
            "Epoch 88/150\n",
            "343/343 [==============================] - 1s 3ms/step - loss: 4.7575e-04 - accuracy: 1.0000 - val_loss: 1.2390e-05 - val_accuracy: 1.0000\n",
            "Epoch 89/150\n",
            "343/343 [==============================] - 1s 3ms/step - loss: 2.6835e-05 - accuracy: 1.0000 - val_loss: 9.8310e-06 - val_accuracy: 1.0000\n",
            "Epoch 90/150\n",
            "343/343 [==============================] - 1s 3ms/step - loss: 3.5161e-06 - accuracy: 1.0000 - val_loss: 9.3876e-06 - val_accuracy: 1.0000\n",
            "Epoch 91/150\n",
            "343/343 [==============================] - 1s 3ms/step - loss: 3.9977e-04 - accuracy: 1.0000 - val_loss: 2.3823e-06 - val_accuracy: 1.0000\n",
            "Epoch 92/150\n",
            "343/343 [==============================] - 1s 3ms/step - loss: 1.5673e-04 - accuracy: 1.0000 - val_loss: 2.0348e-06 - val_accuracy: 1.0000\n",
            "Epoch 93/150\n",
            "343/343 [==============================] - 1s 3ms/step - loss: 1.0656e-05 - accuracy: 1.0000 - val_loss: 1.3206e-06 - val_accuracy: 1.0000\n",
            "Epoch 94/150\n",
            "343/343 [==============================] - 1s 3ms/step - loss: 7.3409e-05 - accuracy: 1.0000 - val_loss: 3.9870e-07 - val_accuracy: 1.0000\n",
            "Epoch 95/150\n",
            "343/343 [==============================] - 1s 3ms/step - loss: 0.0146 - accuracy: 0.9971 - val_loss: 5.9544e-07 - val_accuracy: 1.0000\n",
            "Epoch 96/150\n",
            "343/343 [==============================] - 1s 3ms/step - loss: 6.5771e-06 - accuracy: 1.0000 - val_loss: 5.3097e-07 - val_accuracy: 1.0000\n",
            "Epoch 97/150\n",
            "343/343 [==============================] - 1s 3ms/step - loss: 3.1381e-05 - accuracy: 1.0000 - val_loss: 3.3061e-07 - val_accuracy: 1.0000\n",
            "Epoch 98/150\n",
            "343/343 [==============================] - 1s 3ms/step - loss: 0.0028 - accuracy: 0.9971 - val_loss: 6.6021e-07 - val_accuracy: 1.0000\n",
            "Epoch 99/150\n",
            "343/343 [==============================] - 1s 2ms/step - loss: 0.0020 - accuracy: 1.0000 - val_loss: 7.9809e-07 - val_accuracy: 1.0000\n",
            "Epoch 100/150\n",
            "343/343 [==============================] - 1s 2ms/step - loss: 4.0090e-04 - accuracy: 1.0000 - val_loss: 7.1242e-07 - val_accuracy: 1.0000\n",
            "Epoch 101/150\n",
            "343/343 [==============================] - 1s 3ms/step - loss: 1.1435e-06 - accuracy: 1.0000 - val_loss: 7.0559e-07 - val_accuracy: 1.0000\n",
            "Epoch 102/150\n",
            "343/343 [==============================] - 1s 2ms/step - loss: 0.0119 - accuracy: 0.9971 - val_loss: 3.7859e-07 - val_accuracy: 1.0000\n",
            "Epoch 103/150\n",
            "343/343 [==============================] - 1s 3ms/step - loss: 9.6054e-05 - accuracy: 1.0000 - val_loss: 4.3394e-07 - val_accuracy: 1.0000\n",
            "Epoch 104/150\n",
            "343/343 [==============================] - 1s 2ms/step - loss: 3.8488e-04 - accuracy: 1.0000 - val_loss: 4.2663e-07 - val_accuracy: 1.0000\n",
            "Epoch 105/150\n",
            "343/343 [==============================] - 1s 3ms/step - loss: 3.4064e-06 - accuracy: 1.0000 - val_loss: 4.1397e-07 - val_accuracy: 1.0000\n",
            "Epoch 106/150\n",
            "343/343 [==============================] - 1s 3ms/step - loss: 2.8389e-06 - accuracy: 1.0000 - val_loss: 4.1673e-07 - val_accuracy: 1.0000\n",
            "Epoch 107/150\n",
            "343/343 [==============================] - 1s 3ms/step - loss: 0.0061 - accuracy: 0.9971 - val_loss: 1.1281e-05 - val_accuracy: 1.0000\n",
            "Epoch 108/150\n",
            "343/343 [==============================] - 1s 2ms/step - loss: 5.2494e-06 - accuracy: 1.0000 - val_loss: 9.2742e-06 - val_accuracy: 1.0000\n",
            "Epoch 109/150\n",
            "343/343 [==============================] - 1s 3ms/step - loss: 2.0071e-04 - accuracy: 1.0000 - val_loss: 6.9678e-06 - val_accuracy: 1.0000\n",
            "Epoch 110/150\n",
            "343/343 [==============================] - 1s 2ms/step - loss: 6.8224e-05 - accuracy: 1.0000 - val_loss: 4.9193e-06 - val_accuracy: 1.0000\n",
            "Epoch 111/150\n",
            "343/343 [==============================] - 1s 2ms/step - loss: 0.0012 - accuracy: 1.0000 - val_loss: 3.5066e-07 - val_accuracy: 1.0000\n",
            "Epoch 112/150\n",
            "343/343 [==============================] - 1s 2ms/step - loss: 0.0017 - accuracy: 1.0000 - val_loss: 4.0648e-07 - val_accuracy: 1.0000\n",
            "Epoch 113/150\n",
            "343/343 [==============================] - 1s 2ms/step - loss: 0.0012 - accuracy: 1.0000 - val_loss: 2.5162e-06 - val_accuracy: 1.0000\n",
            "Epoch 114/150\n",
            "343/343 [==============================] - 1s 2ms/step - loss: 0.0109 - accuracy: 0.9971 - val_loss: 4.3533e-05 - val_accuracy: 1.0000\n",
            "Epoch 115/150\n",
            "343/343 [==============================] - 1s 3ms/step - loss: 1.4843e-04 - accuracy: 1.0000 - val_loss: 3.8388e-05 - val_accuracy: 1.0000\n",
            "Epoch 116/150\n",
            "343/343 [==============================] - 1s 3ms/step - loss: 4.3097e-04 - accuracy: 1.0000 - val_loss: 4.2115e-05 - val_accuracy: 1.0000\n",
            "Epoch 117/150\n",
            "343/343 [==============================] - 1s 3ms/step - loss: 5.1403e-05 - accuracy: 1.0000 - val_loss: 4.0360e-05 - val_accuracy: 1.0000\n",
            "Epoch 118/150\n",
            "343/343 [==============================] - 1s 3ms/step - loss: 9.2107e-04 - accuracy: 1.0000 - val_loss: 2.3539e-05 - val_accuracy: 1.0000\n",
            "Epoch 119/150\n",
            "343/343 [==============================] - 1s 3ms/step - loss: 1.3153e-05 - accuracy: 1.0000 - val_loss: 2.3341e-05 - val_accuracy: 1.0000\n",
            "Epoch 120/150\n",
            "343/343 [==============================] - 1s 3ms/step - loss: 3.6815e-05 - accuracy: 1.0000 - val_loss: 2.1988e-05 - val_accuracy: 1.0000\n",
            "Epoch 121/150\n",
            "343/343 [==============================] - 1s 3ms/step - loss: 1.9684e-04 - accuracy: 1.0000 - val_loss: 1.8245e-05 - val_accuracy: 1.0000\n",
            "Epoch 122/150\n",
            "343/343 [==============================] - 1s 3ms/step - loss: 2.4052e-05 - accuracy: 1.0000 - val_loss: 1.7717e-05 - val_accuracy: 1.0000\n",
            "Epoch 123/150\n",
            "343/343 [==============================] - 1s 3ms/step - loss: 1.8115e-04 - accuracy: 1.0000 - val_loss: 1.9739e-05 - val_accuracy: 1.0000\n",
            "Epoch 124/150\n",
            "343/343 [==============================] - 1s 3ms/step - loss: 9.1732e-05 - accuracy: 1.0000 - val_loss: 1.9008e-05 - val_accuracy: 1.0000\n",
            "Epoch 125/150\n",
            "343/343 [==============================] - 1s 3ms/step - loss: 4.9118e-04 - accuracy: 1.0000 - val_loss: 2.0212e-06 - val_accuracy: 1.0000\n",
            "Epoch 126/150\n",
            "343/343 [==============================] - 1s 2ms/step - loss: 9.3467e-05 - accuracy: 1.0000 - val_loss: 1.6866e-06 - val_accuracy: 1.0000\n",
            "Epoch 127/150\n",
            "343/343 [==============================] - 1s 2ms/step - loss: 0.0069 - accuracy: 0.9971 - val_loss: 6.2802e-07 - val_accuracy: 1.0000\n",
            "Epoch 128/150\n",
            "343/343 [==============================] - 1s 2ms/step - loss: 7.3035e-07 - accuracy: 1.0000 - val_loss: 6.2940e-07 - val_accuracy: 1.0000\n",
            "Epoch 129/150\n",
            "343/343 [==============================] - 1s 2ms/step - loss: 0.0186 - accuracy: 0.9971 - val_loss: 1.2852e-06 - val_accuracy: 1.0000\n",
            "Epoch 130/150\n",
            "343/343 [==============================] - 1s 2ms/step - loss: 0.0042 - accuracy: 0.9971 - val_loss: 1.0051e-05 - val_accuracy: 1.0000\n",
            "Epoch 131/150\n",
            "343/343 [==============================] - 1s 2ms/step - loss: 0.0012 - accuracy: 1.0000 - val_loss: 1.8569e-06 - val_accuracy: 1.0000\n",
            "Epoch 132/150\n",
            "343/343 [==============================] - 1s 2ms/step - loss: 3.7247e-06 - accuracy: 1.0000 - val_loss: 1.8473e-06 - val_accuracy: 1.0000\n",
            "Epoch 133/150\n",
            "343/343 [==============================] - 1s 2ms/step - loss: 0.0083 - accuracy: 0.9971 - val_loss: 1.9697e-06 - val_accuracy: 1.0000\n",
            "Epoch 134/150\n",
            "343/343 [==============================] - 1s 2ms/step - loss: 2.6173e-06 - accuracy: 1.0000 - val_loss: 1.9872e-06 - val_accuracy: 1.0000\n",
            "Epoch 135/150\n",
            "343/343 [==============================] - 1s 3ms/step - loss: 2.7967e-05 - accuracy: 1.0000 - val_loss: 1.9477e-06 - val_accuracy: 1.0000\n",
            "Epoch 136/150\n",
            "343/343 [==============================] - 1s 2ms/step - loss: 1.1796e-05 - accuracy: 1.0000 - val_loss: 1.9178e-06 - val_accuracy: 1.0000\n",
            "Epoch 137/150\n",
            "343/343 [==============================] - 1s 3ms/step - loss: 8.7212e-04 - accuracy: 1.0000 - val_loss: 1.3431e-06 - val_accuracy: 1.0000\n",
            "Epoch 138/150\n",
            "343/343 [==============================] - 1s 2ms/step - loss: 7.4254e-05 - accuracy: 1.0000 - val_loss: 1.0285e-06 - val_accuracy: 1.0000\n",
            "Epoch 139/150\n",
            "343/343 [==============================] - 1s 2ms/step - loss: 1.8820e-05 - accuracy: 1.0000 - val_loss: 1.0200e-06 - val_accuracy: 1.0000\n",
            "Epoch 140/150\n",
            "343/343 [==============================] - 1s 2ms/step - loss: 0.0061 - accuracy: 0.9971 - val_loss: 4.3648e-07 - val_accuracy: 1.0000\n",
            "Epoch 141/150\n",
            "343/343 [==============================] - 1s 2ms/step - loss: 8.2620e-05 - accuracy: 1.0000 - val_loss: 3.8592e-07 - val_accuracy: 1.0000\n",
            "Epoch 142/150\n",
            "343/343 [==============================] - 1s 2ms/step - loss: 0.0019 - accuracy: 1.0000 - val_loss: 1.0395e-06 - val_accuracy: 1.0000\n",
            "Epoch 143/150\n",
            "343/343 [==============================] - 1s 3ms/step - loss: 1.8699e-05 - accuracy: 1.0000 - val_loss: 1.0062e-06 - val_accuracy: 1.0000\n",
            "Epoch 144/150\n",
            "343/343 [==============================] - 1s 3ms/step - loss: 0.0984 - accuracy: 0.9971 - val_loss: 2.2232e-05 - val_accuracy: 1.0000\n",
            "Epoch 145/150\n",
            "343/343 [==============================] - 1s 3ms/step - loss: 4.6086e-07 - accuracy: 1.0000 - val_loss: 2.2165e-05 - val_accuracy: 1.0000\n",
            "Epoch 146/150\n",
            "343/343 [==============================] - 1s 2ms/step - loss: 6.5319e-04 - accuracy: 1.0000 - val_loss: 2.0750e-06 - val_accuracy: 1.0000\n",
            "Epoch 147/150\n",
            "343/343 [==============================] - 1s 3ms/step - loss: 0.0017 - accuracy: 1.0000 - val_loss: 1.6141e-06 - val_accuracy: 1.0000\n",
            "Epoch 148/150\n",
            "343/343 [==============================] - 1s 2ms/step - loss: 0.0013 - accuracy: 1.0000 - val_loss: 1.2639e-04 - val_accuracy: 1.0000\n",
            "Epoch 149/150\n",
            "343/343 [==============================] - 1s 2ms/step - loss: 7.6890e-06 - accuracy: 1.0000 - val_loss: 1.2399e-04 - val_accuracy: 1.0000\n",
            "Epoch 150/150\n",
            "343/343 [==============================] - 1s 3ms/step - loss: 2.6891e-05 - accuracy: 1.0000 - val_loss: 1.2131e-04 - val_accuracy: 1.0000\n"
          ],
          "name": "stdout"
        }
      ]
    },
    {
      "cell_type": "code",
      "metadata": {
        "id": "jbvzj_5fQ3DM"
      },
      "source": [
        "Y_pred = classifier.predict(X_test)\n",
        "Y_pred = (Y_pred > 0.5)"
      ],
      "execution_count": 28,
      "outputs": []
    },
    {
      "cell_type": "code",
      "metadata": {
        "colab": {
          "base_uri": "https://localhost:8080/"
        },
        "id": "JSMKiR0lRoSP",
        "outputId": "acc564bb-796c-4e95-db5c-7ea233237c66"
      },
      "source": [
        "from sklearn.metrics import confusion_matrix\n",
        "cm = confusion_matrix(Y_test,Y_pred)\n",
        "print(\"Accuracy of the model is {}%\".format(((cm[0][0] + cm[1][1])/57)*100))"
      ],
      "execution_count": 29,
      "outputs": [
        {
          "output_type": "stream",
          "text": [
            "Accuracy of the model is 100.0%\n"
          ],
          "name": "stdout"
        }
      ]
    },
    {
      "cell_type": "code",
      "metadata": {
        "colab": {
          "base_uri": "https://localhost:8080/",
          "height": 269
        },
        "id": "EIijnWgXS8IL",
        "outputId": "19cc7852-55ce-400f-f887-065d2a1938eb"
      },
      "source": [
        "sns.heatmap(cm,annot=True)\n",
        "plt.savefig('h.png')"
      ],
      "execution_count": 33,
      "outputs": [
        {
          "output_type": "display_data",
          "data": {
            "image/png": "[encoded data removed]",
            "text/plain": [
              "<Figure size 432x288 with 2 Axes>"
            ]
          },
          "metadata": {
            "tags": [],
            "needs_background": "light"
          }
        }
      ]
    },
    {
      "cell_type": "code",
      "metadata": {
        "colab": {
          "base_uri": "https://localhost:8080/",
          "height": 295
        },
        "id": "8I86_UfVZAli",
        "outputId": "28a1b942-2c62-487f-debf-6d7d185899ef"
      },
      "source": [
        "plt.plot(model_history.history['accuracy'])\n",
        "plt.plot(model_history.history['val_accuracy'])\n",
        "plt.title('model accuracy')\n",
        "plt.ylabel('accuracy')\n",
        "plt.xlabel('epoch')\n",
        "plt.legend(['train', 'test'], loc='upper left')\n",
        "plt.show()"
      ],
      "execution_count": 34,
      "outputs": [
        {
          "output_type": "display_data",
          "data": {
            "image/png": "[encoded data removed]",
            "text/plain": [
              "<Figure size 432x288 with 1 Axes>"
            ]
          },
          "metadata": {
            "tags": [],
            "needs_background": "light"
          }
        }
      ]
    }
  ]
}