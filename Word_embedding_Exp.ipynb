{
  "nbformat": 4,
  "nbformat_minor": 0,
  "metadata": {
    "colab": {
      "name": "Word embedding Exp.ipynb",
      "provenance": [],
      "mount_file_id": "180byOvGo_JjkhSiROAZ8hE1mrJHWbdOo",
      "authorship_tag": "ABX9TyNwDuhpV+y5GwoEjMBcAZZi",
      "include_colab_link": true
    },
    "kernelspec": {
      "name": "python3",
      "display_name": "Python 3"
    }
  },
  "cells": [
    {
      "cell_type": "markdown",
      "metadata": {
        "id": "view-in-github",
        "colab_type": "text"
      },
      "source": [
        "<a href=\"https://colab.research.google.com/github/rajatktiwari/Deep-Learning/blob/main/Word_embedding_Exp.ipynb\" target=\"_parent\"><img src=\"https://colab.research.google.com/assets/colab-badge.svg\" alt=\"Open In Colab\"/></a>"
      ]
    },
    {
      "cell_type": "code",
      "metadata": {
        "id": "U2Q_URrfk25f"
      },
      "source": [
        "import tensorflow"
      ],
      "execution_count": null,
      "outputs": []
    },
    {
      "cell_type": "code",
      "metadata": {
        "id": "1WpP8zfslVrc"
      },
      "source": [
        "import keras"
      ],
      "execution_count": null,
      "outputs": []
    },
    {
      "cell_type": "code",
      "metadata": {
        "id": "iIKRvHqzlfjM"
      },
      "source": [
        "from keras.preprocessing.text import one_hot"
      ],
      "execution_count": null,
      "outputs": []
    },
    {
      "cell_type": "code",
      "metadata": {
        "id": "fSg1vbbIlnyJ"
      },
      "source": [
        "sent = [ 'a glass of wine ',\n",
        "        'a glass of wishkey',\n",
        "        'I am a ood boy',\n",
        "        'I love to play Basketball',\n",
        "        'I love Data Science ',\n",
        "        'Machines are good',\n",
        "        'Coding is hard']"
      ],
      "execution_count": null,
      "outputs": []
    },
    {
      "cell_type": "code",
      "metadata": {
        "id": "_-b2q2hxmTYc"
      },
      "source": [
        "voc_size = 10000"
      ],
      "execution_count": null,
      "outputs": []
    },
    {
      "cell_type": "code",
      "metadata": {
        "id": "KG3eB8bumXvA"
      },
      "source": [
        "onehot_repr = [one_hot(words,voc_size)for words in sent]"
      ],
      "execution_count": null,
      "outputs": []
    },
    {
      "cell_type": "code",
      "metadata": {
        "colab": {
          "base_uri": "https://localhost:8080/"
        },
        "id": "Gp67NJs6mt2a",
        "outputId": "f0dd613b-1fef-46c9-fbbf-3fa2f092427a"
      },
      "source": [
        "print(onehot_repr)"
      ],
      "execution_count": null,
      "outputs": [
        {
          "output_type": "stream",
          "text": [
            "[[6894, 2746, 3101, 2939], [6894, 2746, 3101, 476], [2095, 6320, 6894, 5040, 6557], [2095, 350, 2978, 584, 3740], [2095, 350, 7121, 5497], [8664, 1662, 7008], [9689, 1092, 8613]]\n"
          ],
          "name": "stdout"
        }
      ]
    },
    {
      "cell_type": "code",
      "metadata": {
        "id": "DN6TNu_qnUdA"
      },
      "source": [
        "from keras.layers import Embedding\n",
        "from keras.preprocessing.sequence import pad_sequences\n",
        "from keras.models import Sequential\n",
        "import numpy as np\n"
      ],
      "execution_count": null,
      "outputs": []
    },
    {
      "cell_type": "code",
      "metadata": {
        "id": "hyUZyAb1oAmg"
      },
      "source": [
        "sent_length = 8"
      ],
      "execution_count": null,
      "outputs": []
    },
    {
      "cell_type": "code",
      "metadata": {
        "colab": {
          "base_uri": "https://localhost:8080/"
        },
        "id": "364ZlwdhoIDS",
        "outputId": "9ea85117-ed06-4875-c63c-7062469939ce"
      },
      "source": [
        "embedded_docs = pad_sequences(onehot_repr,padding='pre',maxlen=sent_length)\n",
        "print(embedded_docs)"
      ],
      "execution_count": null,
      "outputs": [
        {
          "output_type": "stream",
          "text": [
            "[[   0    0    0    0 6894 2746 3101 2939]\n",
            " [   0    0    0    0 6894 2746 3101  476]\n",
            " [   0    0    0 2095 6320 6894 5040 6557]\n",
            " [   0    0    0 2095  350 2978  584 3740]\n",
            " [   0    0    0    0 2095  350 7121 5497]\n",
            " [   0    0    0    0    0 8664 1662 7008]\n",
            " [   0    0    0    0    0 9689 1092 8613]]\n"
          ],
          "name": "stdout"
        }
      ]
    },
    {
      "cell_type": "code",
      "metadata": {
        "id": "Ib6AVRyfosTf"
      },
      "source": [
        "dim= 10"
      ],
      "execution_count": null,
      "outputs": []
    },
    {
      "cell_type": "code",
      "metadata": {
        "colab": {
          "base_uri": "https://localhost:8080/"
        },
        "id": "F-HBr3Mdo8lo",
        "outputId": "71a61207-7286-4b2d-926c-4b0b97b2acca"
      },
      "source": [
        "model = Sequential()\n",
        "model.add(Embedding(voc_size,10,input_length=sent_length))\n",
        "model.compile('adam','mse')\n",
        "model.summary()"
      ],
      "execution_count": null,
      "outputs": [
        {
          "output_type": "stream",
          "text": [
            "Model: \"sequential\"\n",
            "_________________________________________________________________\n",
            "Layer (type)                 Output Shape              Param #   \n",
            "=================================================================\n",
            "embedding_2 (Embedding)      (None, 8, 10)             100000    \n",
            "=================================================================\n",
            "Total params: 100,000\n",
            "Trainable params: 100,000\n",
            "Non-trainable params: 0\n",
            "_________________________________________________________________\n"
          ],
          "name": "stdout"
        }
      ]
    },
    {
      "cell_type": "code",
      "metadata": {
        "colab": {
          "base_uri": "https://localhost:8080/"
        },
        "id": "pBxi0b0PpWZ9",
        "outputId": "fa651672-3ffe-4cdb-970b-306ba4cb3355"
      },
      "source": [
        "print(model.predict(embedded_docs)[0])"
      ],
      "execution_count": null,
      "outputs": [
        {
          "output_type": "stream",
          "text": [
            "[[ 0.01446346  0.02486709  0.00455066  0.03522796 -0.03081334 -0.02201868\n",
            "  -0.02807215 -0.00498087 -0.00459971  0.00751288]\n",
            " [ 0.01446346  0.02486709  0.00455066  0.03522796 -0.03081334 -0.02201868\n",
            "  -0.02807215 -0.00498087 -0.00459971  0.00751288]\n",
            " [ 0.01446346  0.02486709  0.00455066  0.03522796 -0.03081334 -0.02201868\n",
            "  -0.02807215 -0.00498087 -0.00459971  0.00751288]\n",
            " [ 0.01446346  0.02486709  0.00455066  0.03522796 -0.03081334 -0.02201868\n",
            "  -0.02807215 -0.00498087 -0.00459971  0.00751288]\n",
            " [-0.03514725  0.00825701  0.04398259 -0.01790708  0.03102628 -0.01022221\n",
            "   0.00762241 -0.01767483  0.04212772 -0.04960465]\n",
            " [ 0.00165381  0.00378577  0.03711578  0.01630041  0.00359392  0.01234848\n",
            "   0.02016797  0.03053123  0.01652848  0.02864099]\n",
            " [ 0.00845152 -0.02267201 -0.03128042 -0.01967578  0.02906423 -0.04456238\n",
            "  -0.04550656 -0.00019518 -0.01301737  0.03683012]\n",
            " [-0.02610412 -0.04539371  0.00369228  0.00934832 -0.03718008  0.03002865\n",
            "   0.00118209 -0.0141461  -0.00470937 -0.02857039]]\n"
          ],
          "name": "stdout"
        }
      ]
    }
  ]
}